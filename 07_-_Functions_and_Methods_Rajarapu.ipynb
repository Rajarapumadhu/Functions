{
 "cells": [
  {
   "cell_type": "markdown",
   "metadata": {
    "colab_type": "text",
    "id": "ulWPjwCr5CTn"
   },
   "source": [
    "# Functions and Methods Homework \n",
    "\n",
    "Complete the following questions:\n",
    "____\n",
    "**Write a function that computes the volume of a sphere given its radius.**"
   ]
  },
  {
   "cell_type": "markdown",
   "metadata": {
    "colab_type": "text",
    "id": "h7FOxpgS5CTr"
   },
   "source": [
    "volume = 4/3 pi $r ^3$"
   ]
  },
  {
   "cell_type": "code",
   "execution_count": 1,
   "metadata": {
    "colab": {},
    "colab_type": "code",
    "id": "zWF2MYhR5CTt"
   },
   "outputs": [
    {
     "data": {
      "text/plain": [
       "523.3333333333334"
      ]
     },
     "execution_count": 1,
     "metadata": {},
     "output_type": "execute_result"
    }
   ],
   "source": [
    "def vol(rad):\n",
    "    volume = 4/3*3.14*rad**3\n",
    "    return volume\n",
    "    \n",
    "vol(5)    "
   ]
  },
  {
   "cell_type": "markdown",
   "metadata": {
    "colab_type": "text",
    "id": "HMo_Rw5a5CTy"
   },
   "source": [
    "___\n",
    "**Write a function that checks whether a number is in a given range (Inclusive of high and low)**"
   ]
  },
  {
   "cell_type": "code",
   "execution_count": 2,
   "metadata": {
    "colab": {},
    "colab_type": "code",
    "id": "n0yqPe8E5CT0"
   },
   "outputs": [
    {
     "name": "stdout",
     "output_type": "stream",
     "text": [
      "2 is in range of 1 and 5\n"
     ]
    }
   ],
   "source": [
    "def ran_check(num,low,high):\n",
    "    if low<=num<=high:\n",
    "        print(num,\"is in range of\",low,\"and\",high)\n",
    "    else:\n",
    "        print(num,\"is not in range of\",low,\"and\",high)\n",
    "        \n",
    "ran_check(2,1,5)"
   ]
  },
  {
   "cell_type": "markdown",
   "metadata": {
    "colab_type": "text",
    "id": "iwjtPA8c5CT7"
   },
   "source": [
    "If you only wanted to return a boolean:"
   ]
  },
  {
   "cell_type": "code",
   "execution_count": 3,
   "metadata": {
    "colab": {},
    "colab_type": "code",
    "id": "MpXji4ez5CT9"
   },
   "outputs": [
    {
     "data": {
      "text/plain": [
       "True"
      ]
     },
     "execution_count": 3,
     "metadata": {},
     "output_type": "execute_result"
    }
   ],
   "source": [
    "def ran_bool(num,low,high):\n",
    "    if low<=num<=high:\n",
    "        return True\n",
    "    else:\n",
    "        return False\n",
    "    \n",
    "ran_bool(2,1,5)    "
   ]
  },
  {
   "cell_type": "code",
   "execution_count": 4,
   "metadata": {
    "colab": {},
    "colab_type": "code",
    "id": "0V5Z-P4x5CUB",
    "outputId": "b840e6e7-7c34-491b-e39f-7ee3ed5feba5"
   },
   "outputs": [
    {
     "data": {
      "text/plain": [
       "True"
      ]
     },
     "execution_count": 4,
     "metadata": {},
     "output_type": "execute_result"
    }
   ],
   "source": [
    "ran_bool(3,1,10)"
   ]
  },
  {
   "cell_type": "markdown",
   "metadata": {
    "colab_type": "text",
    "id": "vqDY4M-45CUJ"
   },
   "source": [
    "____\n",
    "**Write a Python function that accepts a string and calculate the number of upper case letters and lower case letters.**\n",
    "\n",
    "    Sample String : 'Hello Mr. Rogers, how are you this fine Tuesday?'\n",
    "    Expected Output : \n",
    "    No. of Upper case characters : 4\n",
    "    No. of Lower case Characters : 33\n",
    "\n",
    "If you feel ambitious, explore the Collections module to solve this problem!"
   ]
  },
  {
   "cell_type": "code",
   "execution_count": 5,
   "metadata": {
    "colab": {},
    "colab_type": "code",
    "id": "zK0dlL0J5CUK"
   },
   "outputs": [
    {
     "name": "stdout",
     "output_type": "stream",
     "text": [
      "No. of upper case characters: 4\n",
      "No. of lower case characters: 33\n"
     ]
    }
   ],
   "source": [
    "# method 1\n",
    "def low_up():\n",
    "    s=\"Hello Mr. Rogers, how are you this fine Tuesday?\"\n",
    "    a=0\n",
    "    b=0\n",
    "    for i in range(len(s)):\n",
    "        if s[i].isupper()==True and s[i].isalpha()==True:\n",
    "            a=a+1\n",
    "        elif s[i].islower()==True and s[i].isalpha()==True:\n",
    "            b=b+1\n",
    "        else:\n",
    "            pass\n",
    "    print(\"No. of upper case characters:\",a)\n",
    "    print(\"No. of lower case characters:\",b)\n",
    "\n",
    "low_up()   "
   ]
  },
  {
   "cell_type": "markdown",
   "metadata": {
    "colab_type": "text",
    "id": "KM0XQc4W5CUP"
   },
   "source": [
    "____\n",
    "**Write a Python function that takes a list and returns a new list with unique elements of the first list.**\n",
    "\n",
    "    Sample List : [1,1,1,1,2,2,3,3,3,3,4,5]\n",
    "    Unique List : [1, 2, 3, 4, 5]"
   ]
  },
  {
   "cell_type": "code",
   "execution_count": 6,
   "metadata": {
    "colab": {},
    "colab_type": "code",
    "id": "CUat5ZSr5CUR"
   },
   "outputs": [
    {
     "data": {
      "text/plain": [
       "[1, 2, 3, 4, 5]"
      ]
     },
     "execution_count": 6,
     "metadata": {},
     "output_type": "execute_result"
    }
   ],
   "source": [
    "def unique_list(l):\n",
    "    s=set(l)\n",
    "    l1=list(s)\n",
    "    return l1\n",
    "\n",
    "    \n",
    "unique_list([1,1,1,1,2,2,3,3,3,3,4,5])\n",
    "    \n",
    "    "
   ]
  },
  {
   "cell_type": "markdown",
   "metadata": {
    "colab_type": "text",
    "id": "ITK_schK5CUb"
   },
   "source": [
    "____\n",
    "**Write a Python function to multiply all the numbers in a list.**\n",
    "\n",
    "    Sample List : [1, 2, 3, -4]\n",
    "    Expected Output : -24"
   ]
  },
  {
   "cell_type": "code",
   "execution_count": 7,
   "metadata": {
    "colab": {},
    "colab_type": "code",
    "id": "8f0Y4zBT5CUd"
   },
   "outputs": [
    {
     "data": {
      "text/plain": [
       "-24"
      ]
     },
     "execution_count": 7,
     "metadata": {},
     "output_type": "execute_result"
    }
   ],
   "source": [
    "def multiply():\n",
    "    l=[1, 2, 3, -4]\n",
    "    n=1\n",
    "    for i in l:\n",
    "        n=n*i\n",
    "    return n\n",
    "multiply()    \n",
    "    "
   ]
  },
  {
   "cell_type": "markdown",
   "metadata": {
    "colab_type": "text",
    "id": "5lrg6QgD5CUm"
   },
   "source": [
    "____\n",
    "**Write a Python function that checks whether a passed string is palindrome or not.**\n",
    "\n",
    "Note: A palindrome is word, phrase, or sequence that reads the same backward as forward, e.g., madam or nurses run."
   ]
  },
  {
   "cell_type": "code",
   "execution_count": 8,
   "metadata": {
    "colab": {},
    "colab_type": "code",
    "id": "aQDoX-6Y5CUn"
   },
   "outputs": [],
   "source": [
    "def palindrome(s):\n",
    "    if s==s[::-1]:\n",
    "        print(s,' is a palindrome')\n",
    "    else:\n",
    "        pass        "
   ]
  },
  {
   "cell_type": "code",
   "execution_count": 9,
   "metadata": {
    "colab": {},
    "colab_type": "code",
    "id": "Jc6_b7hQ5CUy",
    "outputId": "a23457aa-65fd-4176-ff6d-587c40392b42"
   },
   "outputs": [
    {
     "name": "stdout",
     "output_type": "stream",
     "text": [
      "helleh  is a palindrome\n"
     ]
    }
   ],
   "source": [
    "palindrome('helleh')"
   ]
  },
  {
   "cell_type": "markdown",
   "metadata": {},
   "source": [
    "## Given a number N.Find Sum of 1 to N Using Recursion"
   ]
  },
  {
   "cell_type": "code",
   "execution_count": 10,
   "metadata": {},
   "outputs": [
    {
     "data": {
      "text/plain": [
       "15"
      ]
     },
     "execution_count": 10,
     "metadata": {},
     "output_type": "execute_result"
    }
   ],
   "source": [
    "# CODE HERE\n",
    "def summation(n):\n",
    "    if n==0:\n",
    "        return n\n",
    "    else:\n",
    "        return n+summation(n-1)\n",
    "    \n",
    "summation(5)\n",
    "    "
   ]
  },
  {
   "cell_type": "markdown",
   "metadata": {},
   "source": [
    "### Define a function which can generate and print a list where the values are square of numbers between 1 and 20"
   ]
  },
  {
   "cell_type": "code",
   "execution_count": 11,
   "metadata": {},
   "outputs": [
    {
     "name": "stdout",
     "output_type": "stream",
     "text": [
      "[1, 4, 9, 16, 25, 36, 49, 64, 81, 100, 121, 144, 169, 196, 225, 256, 289, 324, 361, 400]\n"
     ]
    }
   ],
   "source": [
    "def printList():\n",
    "    l=[]\n",
    "    for i in range(1,21):\n",
    "        i=i*i\n",
    "        l.append(i)\n",
    "    print(l)\n",
    "\n",
    "printList()"
   ]
  },
  {
   "cell_type": "markdown",
   "metadata": {},
   "source": [
    "### Define a function which can generate a dictionary where the keys are numbers between 1 and 20 (both included) and the values are square of keys. The function should just print the keys only.\n",
    "\n"
   ]
  },
  {
   "cell_type": "code",
   "execution_count": 12,
   "metadata": {},
   "outputs": [
    {
     "name": "stdout",
     "output_type": "stream",
     "text": [
      "{1: 1, 2: 4, 3: 9, 4: 16, 5: 25, 6: 36, 7: 49, 8: 64, 9: 81, 10: 100, 11: 121, 12: 144, 13: 169, 14: 196, 15: 225, 16: 256, 17: 289, 18: 324, 19: 361, 20: 400}\n"
     ]
    }
   ],
   "source": [
    "def printDict():\n",
    "    d={}\n",
    "    for i in range(1,21):\n",
    "        d[i]=i*i\n",
    "    print(d)\n",
    "printDict()"
   ]
  },
  {
   "cell_type": "markdown",
   "metadata": {},
   "source": [
    "### Write a function that count the no of characters of the given input text\n",
    "- input\n",
    "    - innomatics research labs\n",
    "    \n",
    "- output\n",
    "    - innomatics :10\n",
    "    - research : 8\n",
    "    - labs : 4"
   ]
  },
  {
   "cell_type": "code",
   "execution_count": 13,
   "metadata": {},
   "outputs": [
    {
     "name": "stdout",
     "output_type": "stream",
     "text": [
      "innomatics 10\n",
      "research 8\n",
      "labs 4\n"
     ]
    }
   ],
   "source": [
    "def count(s):\n",
    "    a=s.split()\n",
    "    \n",
    "    for i in a:\n",
    "        print(i,len(i))\n",
    "              \n",
    "count(\"innomatics research labs\")\n",
    "        "
   ]
  },
  {
   "cell_type": "markdown",
   "metadata": {},
   "source": [
    "### Write a program which can map() to make a list whose elements are square of elements in [1,2,3,4,5,6,7,8,9,10].\n",
    "\n",
    "Using map() function"
   ]
  },
  {
   "cell_type": "code",
   "execution_count": 14,
   "metadata": {},
   "outputs": [
    {
     "data": {
      "text/plain": [
       "[1, 4, 9, 16, 25, 36, 49, 64, 81, 100]"
      ]
     },
     "execution_count": 14,
     "metadata": {},
     "output_type": "execute_result"
    }
   ],
   "source": [
    "li = [1, 2, 3, 4, 5, 6, 7, 8, 9, 10]\n",
    "\n",
    "l=list(map(lambda a : a*a,li))\n",
    "l\n",
    "\n",
    "  "
   ]
  },
  {
   "cell_type": "markdown",
   "metadata": {},
   "source": [
    "### Write a program which can map() and filter() to make a list whose elements are square of even number in [1,2,3,4,5,6,7,8,9,10].\n",
    "##### using filter()"
   ]
  },
  {
   "cell_type": "code",
   "execution_count": 15,
   "metadata": {},
   "outputs": [
    {
     "data": {
      "text/plain": [
       "[2, 4, 6, 8, 10]"
      ]
     },
     "execution_count": 15,
     "metadata": {},
     "output_type": "execute_result"
    }
   ],
   "source": [
    "li = [1, 2, 3, 4, 5, 6, 7, 8, 9, 10]\n",
    "def even(li):\n",
    "    if li%2==0:\n",
    "        return True\n",
    "    else:\n",
    "        return False\n",
    "l=filter(even,li)\n",
    "l2=list(l)\n",
    "l2"
   ]
  },
  {
   "cell_type": "code",
   "execution_count": 16,
   "metadata": {},
   "outputs": [
    {
     "data": {
      "text/plain": [
       "[4, 16, 36, 64, 100]"
      ]
     },
     "execution_count": 16,
     "metadata": {},
     "output_type": "execute_result"
    }
   ],
   "source": [
    "s=list(map(lambda a: a*a ,l2))\n",
    "s"
   ]
  },
  {
   "cell_type": "markdown",
   "metadata": {},
   "source": [
    "### Write a program which can filter() to make a list whose elements are even number between 1 and 20 (both included)"
   ]
  },
  {
   "cell_type": "code",
   "execution_count": 17,
   "metadata": {},
   "outputs": [
    {
     "data": {
      "text/plain": [
       "[2, 4, 6, 8, 10, 12, 14, 16, 18, 20]"
      ]
     },
     "execution_count": 17,
     "metadata": {},
     "output_type": "execute_result"
    }
   ],
   "source": [
    "li = list(range(1,21))\n",
    "def even(li):\n",
    "    if li%2==0:\n",
    "        return True\n",
    "    else:\n",
    "        return False\n",
    "l=list(filter(even,li))\n",
    "l"
   ]
  },
  {
   "cell_type": "markdown",
   "metadata": {},
   "source": [
    "### $f(n)=f(n-1)+f(n-2)$ if n>1"
   ]
  },
  {
   "cell_type": "code",
   "execution_count": 1,
   "metadata": {},
   "outputs": [
    {
     "data": {
      "text/plain": [
       "1"
      ]
     },
     "execution_count": 1,
     "metadata": {},
     "output_type": "execute_result"
    }
   ],
   "source": [
    "def f(n):\n",
    "    if n==0 or n==1:\n",
    "        return n\n",
    "    else:\n",
    "        return f(n-1)+f(n-2)\n",
    "    \n",
    "f(2)"
   ]
  },
  {
   "cell_type": "markdown",
   "metadata": {
    "colab_type": "text",
    "id": "GKCWkFCm5CU_"
   },
   "source": [
    "# [Innomatics Research Labs](https:/innomatics.in/)\n",
    "[www.innomatics.in](https:/innomatics.in/)"
   ]
  },
  {
   "cell_type": "code",
   "execution_count": null,
   "metadata": {},
   "outputs": [],
   "source": []
  }
 ],
 "metadata": {
  "colab": {
   "name": "03 - Functions and Methods execrise.ipynb",
   "provenance": []
  },
  "kernelspec": {
   "display_name": "Python 3 (ipykernel)",
   "language": "python",
   "name": "python3"
  },
  "language_info": {
   "codemirror_mode": {
    "name": "ipython",
    "version": 3
   },
   "file_extension": ".py",
   "mimetype": "text/x-python",
   "name": "python",
   "nbconvert_exporter": "python",
   "pygments_lexer": "ipython3",
   "version": "3.9.13"
  }
 },
 "nbformat": 4,
 "nbformat_minor": 1
}
